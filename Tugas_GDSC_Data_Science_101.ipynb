{
  "cells": [
    {
      "cell_type": "markdown",
      "metadata": {
        "id": "ppdZuBGGcQvc"
      },
      "source": [
        "# Referensi yang Mungkin Berguna\n",
        "1. Tutorial pandas dan membuat grafik https://www.youtube.com/watch?v=dcqPhpY7tWk \n",
        "2. Tutorial pandas juga tapi tertulis https://www.geeksforgeeks.org/pandas-tutorial/ "
      ]
    },
    {
      "cell_type": "code",
      "execution_count": 91,
      "metadata": {},
      "outputs": [],
      "source": [
        "# Import module\n",
        "import pandas as pd\n",
        "import matplotlib.pyplot as plt"
      ]
    },
    {
      "cell_type": "markdown",
      "metadata": {
        "id": "A594MM6jW6eR"
      },
      "source": [
        "# Baca data dari file .csv\n",
        "1. Unduh loan_sanction_train.csv dari https://www.kaggle.com/datasets/rishikeshkonapure/home-loan-approval \n",
        "2. Gunakan pandas untuk membaca file tersebut\n",
        "3. Print dataframe yang telah dibaca"
      ]
    },
    {
      "cell_type": "code",
      "execution_count": 92,
      "metadata": {},
      "outputs": [
        {
          "name": "stdout",
          "output_type": "stream",
          "text": [
            "      Loan_ID  Gender Married Dependents     Education Self_Employed  \\\n",
            "0    LP001002    Male      No          0      Graduate            No   \n",
            "1    LP001003    Male     Yes          1      Graduate            No   \n",
            "2    LP001005    Male     Yes          0      Graduate           Yes   \n",
            "3    LP001006    Male     Yes          0  Not Graduate            No   \n",
            "4    LP001008    Male      No          0      Graduate            No   \n",
            "..        ...     ...     ...        ...           ...           ...   \n",
            "609  LP002978  Female      No          0      Graduate            No   \n",
            "610  LP002979    Male     Yes         3+      Graduate            No   \n",
            "611  LP002983    Male     Yes          1      Graduate            No   \n",
            "612  LP002984    Male     Yes          2      Graduate            No   \n",
            "613  LP002990  Female      No          0      Graduate           Yes   \n",
            "\n",
            "     ApplicantIncome  CoapplicantIncome  LoanAmount  Loan_Amount_Term  \\\n",
            "0               5849                0.0         NaN             360.0   \n",
            "1               4583             1508.0       128.0             360.0   \n",
            "2               3000                0.0        66.0             360.0   \n",
            "3               2583             2358.0       120.0             360.0   \n",
            "4               6000                0.0       141.0             360.0   \n",
            "..               ...                ...         ...               ...   \n",
            "609             2900                0.0        71.0             360.0   \n",
            "610             4106                0.0        40.0             180.0   \n",
            "611             8072              240.0       253.0             360.0   \n",
            "612             7583                0.0       187.0             360.0   \n",
            "613             4583                0.0       133.0             360.0   \n",
            "\n",
            "     Credit_History Property_Area Loan_Status  \n",
            "0               1.0         Urban           Y  \n",
            "1               1.0         Rural           N  \n",
            "2               1.0         Urban           Y  \n",
            "3               1.0         Urban           Y  \n",
            "4               1.0         Urban           Y  \n",
            "..              ...           ...         ...  \n",
            "609             1.0         Rural           Y  \n",
            "610             1.0         Rural           Y  \n",
            "611             1.0         Urban           Y  \n",
            "612             1.0         Urban           Y  \n",
            "613             0.0     Semiurban           N  \n",
            "\n",
            "[614 rows x 13 columns]\n"
          ]
        }
      ],
      "source": [
        "# Baca dataframe dan print dataframe yang telah dibaca\n",
        "df = pd.read_csv(\"loan_sanction_train.csv\")\n",
        "print(df)"
      ]
    },
    {
      "cell_type": "markdown",
      "metadata": {
        "id": "tUo0DyL7X4RK"
      },
      "source": [
        "# Filter dan sort\n",
        "1. Tampilkan data loan oleh seorang laki-laki!\n",
        "2. Urutkan data berdasar jumlah pinjaman!\n",
        "(cukup tampilkan hasil akhir dari dua perintah di atas)"
      ]
    },
    {
      "cell_type": "code",
      "execution_count": 93,
      "metadata": {},
      "outputs": [
        {
          "name": "stdout",
          "output_type": "stream",
          "text": [
            "      Loan_ID Gender Married Dependents     Education Self_Employed  \\\n",
            "0    LP001002   Male      No          0      Graduate            No   \n",
            "1    LP001003   Male     Yes          1      Graduate            No   \n",
            "2    LP001005   Male     Yes          0      Graduate           Yes   \n",
            "3    LP001006   Male     Yes          0  Not Graduate            No   \n",
            "4    LP001008   Male      No          0      Graduate            No   \n",
            "..        ...    ...     ...        ...           ...           ...   \n",
            "607  LP002964   Male     Yes          2  Not Graduate            No   \n",
            "608  LP002974   Male     Yes          0      Graduate            No   \n",
            "610  LP002979   Male     Yes         3+      Graduate            No   \n",
            "611  LP002983   Male     Yes          1      Graduate            No   \n",
            "612  LP002984   Male     Yes          2      Graduate            No   \n",
            "\n",
            "     ApplicantIncome  CoapplicantIncome  LoanAmount  Loan_Amount_Term  \\\n",
            "0               5849                0.0         NaN             360.0   \n",
            "1               4583             1508.0       128.0             360.0   \n",
            "2               3000                0.0        66.0             360.0   \n",
            "3               2583             2358.0       120.0             360.0   \n",
            "4               6000                0.0       141.0             360.0   \n",
            "..               ...                ...         ...               ...   \n",
            "607             3987             1411.0       157.0             360.0   \n",
            "608             3232             1950.0       108.0             360.0   \n",
            "610             4106                0.0        40.0             180.0   \n",
            "611             8072              240.0       253.0             360.0   \n",
            "612             7583                0.0       187.0             360.0   \n",
            "\n",
            "     Credit_History Property_Area Loan_Status  \n",
            "0               1.0         Urban           Y  \n",
            "1               1.0         Rural           N  \n",
            "2               1.0         Urban           Y  \n",
            "3               1.0         Urban           Y  \n",
            "4               1.0         Urban           Y  \n",
            "..              ...           ...         ...  \n",
            "607             1.0         Rural           Y  \n",
            "608             1.0         Rural           Y  \n",
            "610             1.0         Rural           Y  \n",
            "611             1.0         Urban           Y  \n",
            "612             1.0         Urban           Y  \n",
            "\n",
            "[489 rows x 13 columns]\n"
          ]
        }
      ],
      "source": [
        "# Data loan oleh seorang laki-laki\n",
        "print(df.loc[df['Gender'] == \"Male\"])"
      ]
    },
    {
      "cell_type": "code",
      "execution_count": 94,
      "metadata": {},
      "outputs": [
        {
          "name": "stdout",
          "output_type": "stream",
          "text": [
            "      Loan_ID  Gender Married Dependents     Education Self_Employed  \\\n",
            "171  LP001585     NaN     Yes         3+      Graduate            No   \n",
            "130  LP001469    Male      No          0      Graduate           Yes   \n",
            "155  LP001536    Male     Yes         3+      Graduate            No   \n",
            "561  LP002813  Female     Yes          1      Graduate           Yes   \n",
            "369  LP002191    Male     Yes          0      Graduate            No   \n",
            "..        ...     ...     ...        ...           ...           ...   \n",
            "479  LP002533    Male     Yes          2      Graduate            No   \n",
            "524  LP002697    Male      No          0      Graduate            No   \n",
            "550  LP002778    Male     Yes          2      Graduate           Yes   \n",
            "551  LP002784    Male     Yes          1  Not Graduate            No   \n",
            "605  LP002960    Male     Yes          0  Not Graduate            No   \n",
            "\n",
            "     ApplicantIncome  CoapplicantIncome  LoanAmount  Loan_Amount_Term  \\\n",
            "171            51763                0.0       700.0             300.0   \n",
            "130            20166                0.0       650.0             480.0   \n",
            "155            39999                0.0       600.0             180.0   \n",
            "561            19484                0.0       600.0             360.0   \n",
            "369            19730             5266.0       570.0             360.0   \n",
            "..               ...                ...         ...               ...   \n",
            "479             2947             1603.0         NaN             360.0   \n",
            "524             4680             2087.0         NaN             360.0   \n",
            "550             6633                0.0         NaN             360.0   \n",
            "551             2492             2375.0         NaN             360.0   \n",
            "605             2400             3800.0         NaN             180.0   \n",
            "\n",
            "     Credit_History Property_Area Loan_Status  \n",
            "171             1.0         Urban           Y  \n",
            "130             NaN         Urban           Y  \n",
            "155             0.0     Semiurban           Y  \n",
            "561             1.0     Semiurban           Y  \n",
            "369             1.0         Rural           N  \n",
            "..              ...           ...         ...  \n",
            "479             1.0         Urban           N  \n",
            "524             1.0     Semiurban           N  \n",
            "550             0.0         Rural           N  \n",
            "551             1.0         Rural           Y  \n",
            "605             1.0         Urban           N  \n",
            "\n",
            "[614 rows x 13 columns]\n"
          ]
        }
      ],
      "source": [
        "# Data urut berdasarkan jumlah pinjaman\n",
        "print(df.sort_values([\"LoanAmount\"], ascending=[0]))"
      ]
    },
    {
      "cell_type": "markdown",
      "metadata": {
        "id": "TY54uyfGYyBH"
      },
      "source": [
        "# Aggregating\n",
        "1. Hitung rata-rata pendapatan dari peminjam!\n",
        "2. Gender apa yang paling banyak mengajukan pinjaman, laki-laki atau perempuan?\n",
        "3. Hitung rata-rata pinjaman yang diajukan untuk masing-masing area properti! "
      ]
    },
    {
      "cell_type": "code",
      "execution_count": 95,
      "metadata": {},
      "outputs": [
        {
          "data": {
            "text/plain": [
              "5403.459283387622"
            ]
          },
          "execution_count": 95,
          "metadata": {},
          "output_type": "execute_result"
        }
      ],
      "source": [
        "# Rata-rata pendapatan peminjam\n",
        "df['ApplicantIncome'].mean()"
      ]
    },
    {
      "cell_type": "code",
      "execution_count": 96,
      "metadata": {},
      "outputs": [
        {
          "data": {
            "text/plain": [
              "Male      489\n",
              "Female    112\n",
              "Name: Gender, dtype: int64"
            ]
          },
          "execution_count": 96,
          "metadata": {},
          "output_type": "execute_result"
        }
      ],
      "source": [
        "# Jumlah peminjam tiap gender\n",
        "df['Gender'].value_counts()"
      ]
    },
    {
      "attachments": {},
      "cell_type": "markdown",
      "metadata": {},
      "source": [
        "Laki-laki lebih banyak mengajukan pinjaman dengan jumlah 489."
      ]
    },
    {
      "cell_type": "code",
      "execution_count": 97,
      "metadata": {},
      "outputs": [
        {
          "data": {
            "text/plain": [
              "Property_Area\n",
              "Rural        152.260116\n",
              "Semiurban    145.504386\n",
              "Urban        142.198953\n",
              "Name: LoanAmount, dtype: float64"
            ]
          },
          "execution_count": 97,
          "metadata": {},
          "output_type": "execute_result"
        }
      ],
      "source": [
        "df.groupby([\"Property_Area\"])['LoanAmount'].mean(numeric_only=True)"
      ]
    },
    {
      "cell_type": "markdown",
      "metadata": {
        "id": "cxcKU1PEa_SE"
      },
      "source": [
        "# Membuat Grafik\n",
        "1. Buatlah histogram untuk penghasilan peminjam, beri judul grafik, dan label untuk tiap sumbu yang jelas!\n",
        "2. Buatlah pie chart untuk tingkat pendidikan para peminjam!"
      ]
    },
    {
      "cell_type": "code",
      "execution_count": 98,
      "metadata": {},
      "outputs": [
        {
          "data": {
            "image/png": "[encoded data removed]",
            "text/plain": [
              "<Figure size 720x432 with 1 Axes>"
            ]
          },
          "metadata": {
            "needs_background": "light"
          },
          "output_type": "display_data"
        }
      ],
      "source": [
        "# Histogram penghasilan peminjam\n",
        "plt.figure(figsize=(10,6))\n",
        "counts, edges, bars = plt.hist(df['ApplicantIncome'], edgecolor='black', linewidth=1)\n",
        "plt.title(\"Histogram Penghasilan Peminjam\")\n",
        "plt.bar_label(bars)\n",
        "plt.xlabel(\"Penghasilan\")\n",
        "plt.ylabel(\"Frekuensi\")\n",
        "plt.show()"
      ]
    },
    {
      "cell_type": "code",
      "execution_count": 99,
      "metadata": {},
      "outputs": [
        {
          "data": {
            "image/png": "[encoded data removed]",
            "text/plain": [
              "<Figure size 576x576 with 1 Axes>"
            ]
          },
          "metadata": {},
          "output_type": "display_data"
        }
      ],
      "source": [
        "# Pie chart tingkat pendidikan para peminjam\n",
        "fig = plt.figure(figsize=(8,8))\n",
        "fig.set_facecolor(\"white\")\n",
        "plt.pie(df['Education'].value_counts(),\n",
        "        labels=df['Education'].unique(),\n",
        "        autopct=\"%.2f%%\",explode=(0.2,0),\n",
        "        wedgeprops={\"edgecolor\":\"black\", \"linewidth\":1.5},\n",
        "        shadow=True)\n",
        "plt.title(\"Tingkat Pendidikan Para Peminjam\")\n",
        "plt.show()"
      ]
    }
  ],
  "metadata": {
    "colab": {
      "provenance": []
    },
    "kernelspec": {
      "display_name": "Python 3",
      "language": "python",
      "name": "python3"
    },
    "language_info": {
      "codemirror_mode": {
        "name": "ipython",
        "version": 3
      },
      "file_extension": ".py",
      "mimetype": "text/x-python",
      "name": "python",
      "nbconvert_exporter": "python",
      "pygments_lexer": "ipython3",
      "version": "3.10.2"
    },
    "vscode": {
      "interpreter": {
        "hash": "369f2c481f4da34e4445cda3fffd2e751bd1c4d706f27375911949ba6bb62e1c"
      }
    }
  },
  "nbformat": 4,
  "nbformat_minor": 0
}
